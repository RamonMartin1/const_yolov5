{
 "cells": [
  {
   "cell_type": "code",
   "execution_count": 1,
   "id": "2b33bc24-750f-4868-8f29-3e68db7e3037",
   "metadata": {},
   "outputs": [],
   "source": [
    "import os "
   ]
  },
  {
   "cell_type": "code",
   "execution_count": 14,
   "id": "c93263a0-6fb0-4df8-ba25-d50f2bce0ab8",
   "metadata": {},
   "outputs": [
    {
     "data": {
      "text/plain": [
       "'/home/jupyter/VOC2007'"
      ]
     },
     "execution_count": 14,
     "metadata": {},
     "output_type": "execute_result"
    }
   ],
   "source": [
    "%pwd"
   ]
  },
  {
   "cell_type": "code",
   "execution_count": 9,
   "id": "2cb73904-094e-45c8-a8f0-00dc9b30fc3b",
   "metadata": {},
   "outputs": [
    {
     "name": "stdout",
     "output_type": "stream",
     "text": [
      "/home/jupyter\n"
     ]
    }
   ],
   "source": [
    "%cd ..\n"
   ]
  },
  {
   "cell_type": "code",
   "execution_count": 10,
   "id": "018b1fd4-1d13-443d-a7bb-dc96feef42e9",
   "metadata": {},
   "outputs": [
    {
     "name": "stdout",
     "output_type": "stream",
     "text": [
      "/home/jupyter/VOC2007\n"
     ]
    }
   ],
   "source": [
    "%cd VOC2007"
   ]
  },
  {
   "cell_type": "code",
   "execution_count": 23,
   "id": "b75696e9-9be4-4789-9d71-3db60b6d9d9a",
   "metadata": {},
   "outputs": [
    {
     "name": "stdout",
     "output_type": "stream",
     "text": [
      "images=19846\n",
      "annotations=19846\n"
     ]
    }
   ],
   "source": [
    "images = [os.path.join('JPEGImages', x) for x in os.listdir('JPEGImages') if x [-3:] == 'jpg']\n",
    "annotations = [os.path.join('Annotations', x) for x in os.listdir('Annotations') if x[-3:] == \"xml\"]\n",
    "print(f'images={len(images)}\\nannotations={len(annotations)}')"
   ]
  },
  {
   "cell_type": "code",
   "execution_count": 13,
   "id": "34f9ac95-be66-4769-bac9-0c4d72ef946c",
   "metadata": {},
   "outputs": [
    {
     "name": "stdout",
     "output_type": "stream",
     "text": [
      "JPEGImages\n"
     ]
    }
   ],
   "source": [
    "print(os.path.join('JPEGImages'))"
   ]
  },
  {
   "cell_type": "code",
   "execution_count": 17,
   "id": "90b74024-0451-4a9e-baaf-230d17db3fc1",
   "metadata": {},
   "outputs": [
    {
     "data": {
      "text/plain": [
       "['JPEGImages', 'Annotations']"
      ]
     },
     "execution_count": 17,
     "metadata": {},
     "output_type": "execute_result"
    }
   ],
   "source": [
    "os.listdir()"
   ]
  },
  {
   "cell_type": "code",
   "execution_count": null,
   "id": "941be603-5d4f-449e-b357-ce2db3e7dc05",
   "metadata": {},
   "outputs": [],
   "source": [
    "hptm2967"
   ]
  }
 ],
 "metadata": {
  "environment": {
   "kernel": "python3",
   "name": "tf2-gpu.2-8.m91",
   "type": "gcloud",
   "uri": "gcr.io/deeplearning-platform-release/tf2-gpu.2-8:m91"
  },
  "kernelspec": {
   "display_name": "Python 3",
   "language": "python",
   "name": "python3"
  },
  "language_info": {
   "codemirror_mode": {
    "name": "ipython",
    "version": 3
   },
   "file_extension": ".py",
   "mimetype": "text/x-python",
   "name": "python",
   "nbconvert_exporter": "python",
   "pygments_lexer": "ipython3",
   "version": "3.7.12"
  }
 },
 "nbformat": 4,
 "nbformat_minor": 5
}
